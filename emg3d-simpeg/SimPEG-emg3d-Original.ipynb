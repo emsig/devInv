{
 "cells": [
  {
   "cell_type": "markdown",
   "metadata": {
    "iooxa": {
     "id": {
      "block": "FWT4lEQzgTJ4SqfCdbsj",
      "project": "rzeiFG3sdIcsFLl4Infw",
      "version": 3
     }
    }
   },
   "source": [
    "# `SimPEG(emg3d)`\n",
    "\n",
    "Requires\n",
    "- `simpeg>=0.22.1`\n",
    "- `emg3d@inv-simpeg` (`pip install git+https://github.com/emsig/emg3d@inv-simpeg`\n",
    "\n",
    "Very simple plus all possible inv-crimes (same mesh, some solver, ...).\n",
    "\n",
    "For the \"original\" versions, see:\n",
    "- https://curvenote.com/@prisae/emg3d-as-solver-for-simpeg/first-try [the very original]\n",
    "- https://curvenote.com/@prisae/emg3d-as-solver-for-simpeg/simpeg-emg3d-inversion-automatic-grid [original with automatic gridding]"
   ]
  },
  {
   "cell_type": "code",
   "execution_count": null,
   "metadata": {
    "iooxa": {
     "id": {
      "block": "10VtbUUnmcpr8GwQailC",
      "project": "rzeiFG3sdIcsFLl4Infw",
      "version": 5
     },
     "outputId": null
    }
   },
   "outputs": [],
   "source": [
    "import numpy as np\n",
    "import matplotlib.pyplot as plt\n",
    "from matplotlib.colors import LogNorm\n",
    "\n",
    "import emg3d\n",
    "import simpeg\n",
    "import emg3d.inversion.simpeg as isimpeg\n",
    "\n",
    "%run ../data/sampledata"
   ]
  },
  {
   "cell_type": "code",
   "execution_count": null,
   "metadata": {
    "iooxa": {
     "id": {
      "block": "10VtbUUnmcpr8GwQailC",
      "project": "rzeiFG3sdIcsFLl4Infw",
      "version": 4
     },
     "outputId": null
    }
   },
   "outputs": [],
   "source": [
    "%matplotlib widget"
   ]
  },
  {
   "cell_type": "markdown",
   "metadata": {},
   "source": [
    "## Load Simulation (incl. Survey, Models, Data)"
   ]
  },
  {
   "cell_type": "code",
   "execution_count": null,
   "metadata": {},
   "outputs": [],
   "source": [
    "sim, model = load_data(\"../data/SimPEG-Original\")\n",
    "model_init = sim.model.copy()\n",
    "\n",
    "# sim.tol_gradient = 1e-2  # could be reduced further to potentially speed-up more"
   ]
  },
  {
   "cell_type": "markdown",
   "metadata": {},
   "source": [
    "## Define active cells, instantiate FDEMSimulation and Inversion"
   ]
  },
  {
   "cell_type": "code",
   "execution_count": null,
   "metadata": {},
   "outputs": [],
   "source": [
    "# Create active cells\n",
    "inds_active = np.zeros(sim.model.shape, dtype=bool)\n",
    "inds_active[:, :, :-6] = True\n",
    "\n",
    "# Instantiate SimPEG Simulation\n",
    "FDEMSimulation = isimpeg.FDEMSimulation(simulation=sim, active_indices=inds_active)\n",
    "\n",
    "# Define directives\n",
    "starting_beta = simpeg.directives.BetaEstimate_ByEig(beta0_ratio=1)\n",
    "beta_schedule = simpeg.directives.BetaSchedule(coolingFactor=2, coolingRate=1)\n",
    "target_misfit = simpeg.directives.TargetMisfit(chifact=1)\n",
    "\n",
    "# Instantiate Inversion\n",
    "INV = isimpeg.Inversion(\n",
    "    simulation=FDEMSimulation,\n",
    "    maxIter=30,\n",
    "    optimization_opts={\n",
    "        'maxIterLS': 20,\n",
    "        'maxIterCG': 20,\n",
    "        'tolCG': 1e-3,\n",
    "    },\n",
    "    regularization_opts={\n",
    "        'alpha_s': 1e-8,\n",
    "        'alpha_x': 1,\n",
    "        'alpha_y': 10,\n",
    "        'alpha_z': 1,\n",
    "    },\n",
    "    directiveList=[\n",
    "        starting_beta,\n",
    "        beta_schedule,\n",
    "        target_misfit,\n",
    "    ],\n",
    ")"
   ]
  },
  {
   "cell_type": "markdown",
   "metadata": {
    "iooxa": {
     "id": {
      "block": "t0fbyqK4zNVIsHZTrVXv",
      "project": "rzeiFG3sdIcsFLl4Infw",
      "version": 4
     },
     "outputId": {
      "block": "73OVBfCEYL6ieThZWOdp",
      "project": "rzeiFG3sdIcsFLl4Infw",
      "version": 3
     }
    }
   },
   "source": [
    "## Run inversion"
   ]
  },
  {
   "cell_type": "code",
   "execution_count": null,
   "metadata": {
    "iooxa": {
     "id": {
      "block": "HtaQ8wJ2fhsD8bQ6asec",
      "project": "rzeiFG3sdIcsFLl4Infw",
      "version": 8
     },
     "outputId": {
      "block": "iLJUD1IpdCixWlTnMSdy",
      "project": "rzeiFG3sdIcsFLl4Infw",
      "version": 8
     }
    }
   },
   "outputs": [],
   "source": [
    "INV.run()"
   ]
  },
  {
   "cell_type": "markdown",
   "metadata": {},
   "source": [
    "## Plots"
   ]
  },
  {
   "cell_type": "code",
   "execution_count": null,
   "metadata": {},
   "outputs": [],
   "source": [
    "plot_models(sim, model_init, model, zind=6, vmin=0.33, vmax=100)"
   ]
  },
  {
   "cell_type": "code",
   "execution_count": null,
   "metadata": {},
   "outputs": [],
   "source": [
    "plot_responses(sim)"
   ]
  },
  {
   "cell_type": "code",
   "execution_count": null,
   "metadata": {
    "iooxa": {
     "id": {
      "block": "URVsZCok60iEBhN5ptdF",
      "project": "rzeiFG3sdIcsFLl4Infw",
      "version": 1
     },
     "outputId": null
    },
    "scrolled": true
   },
   "outputs": [],
   "source": [
    "emg3d.Report()"
   ]
  }
 ],
 "metadata": {
  "iooxa": {
   "id": {
    "block": "got9zIutSejuS7qrPobN",
    "project": "rzeiFG3sdIcsFLl4Infw",
    "version": 1
   }
  },
  "kernelspec": {
   "display_name": "simpeg-emg3d",
   "language": "python",
   "name": "simpeg-emg3d"
  },
  "language_info": {
   "codemirror_mode": {
    "name": "ipython",
    "version": 3
   },
   "file_extension": ".py",
   "mimetype": "text/x-python",
   "name": "python",
   "nbconvert_exporter": "python",
   "pygments_lexer": "ipython3",
   "version": "3.12.5"
  }
 },
 "nbformat": 4,
 "nbformat_minor": 4
}
