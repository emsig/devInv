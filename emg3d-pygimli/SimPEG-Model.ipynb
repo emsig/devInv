{
 "cells": [
  {
   "cell_type": "markdown",
   "metadata": {},
   "source": [
    "# Reproduce SimPEG(emg3d) with pyGIMLi(emg3d)\n",
    "\n",
    "Requires\n",
    "- `simpeg>=1.5.2`\n",
    "- `emg3d@inv-pygimli` (`pip install git+https://github.com/emsig/emg3d@inv-pygimli`\n",
    "\n",
    "Super simple plus all possible inv-crimes (same mesh, some solver, ...)."
   ]
  },
  {
   "cell_type": "code",
   "execution_count": null,
   "metadata": {
    "iooxa": {
     "id": {
      "block": "10VtbUUnmcpr8GwQailC",
      "project": "rzeiFG3sdIcsFLl4Infw",
      "version": 1
     },
     "outputId": null
    }
   },
   "outputs": [],
   "source": [
    "import numpy as np\n",
    "import matplotlib.pyplot as plt\n",
    "from matplotlib.colors import LogNorm\n",
    "\n",
    "import emg3d\n",
    "import emg3d.inversion.pygimli as ipygimli\n",
    "\n",
    "%run ../data/sampledata"
   ]
  },
  {
   "cell_type": "code",
   "execution_count": null,
   "metadata": {},
   "outputs": [],
   "source": [
    "%matplotlib widget"
   ]
  },
  {
   "cell_type": "markdown",
   "metadata": {},
   "source": [
    "## Load Simulation (incl. Survey, Models, Data)"
   ]
  },
  {
   "cell_type": "code",
   "execution_count": null,
   "metadata": {},
   "outputs": [],
   "source": [
    "sim, model = load_data(\"../data/SimPEG-Original\")\n",
    "model_init = sim.model.copy()\n",
    "\n",
    "# sim.tol_gradient = 1e-2  # could be reduced further to potentially speed-up more"
   ]
  },
  {
   "cell_type": "markdown",
   "metadata": {},
   "source": [
    "## Define regions, instantiate Kernel and Inversion"
   ]
  },
  {
   "cell_type": "code",
   "execution_count": null,
   "metadata": {},
   "outputs": [],
   "source": [
    "# Create region markers (as many different regions as you like)\n",
    "markers = np.zeros(sim.model.shape, dtype=int)\n",
    "markers[:, :, :-6] = 1\n",
    "\n",
    "# Instantiate the emg3d-kernel for pyGIMLi\n",
    "fop = emg3d.inversion.pygimli.Kernel(simulation=sim, markers=markers, pgthreads=1)\n",
    "\n",
    "# Instantiate the inversion and set some inversion parameters\n",
    "INV = emg3d.inversion.pygimli.Inversion(fop=fop)\n",
    "#INV.inv.setCGLSTolerance(1e-3)  # is _absolute_, not _relative_\n",
    "INV.inv.setMaxCGLSIter(30)\n",
    "#INV.dataTrans = pg.trans.TransSymLog(sim.survey.noise_floor)\n",
    "\n",
    "INV.fop.setRegionProperties(0, limits=(0.0001, 2), startModel=1)                  # Target\n",
    "INV.fop.setRegionProperties(1, background=True)                                   # Background\n",
    "\n",
    "#INV.stopAtChi1 = False"
   ]
  },
  {
   "cell_type": "markdown",
   "metadata": {},
   "source": [
    "## Run inversion"
   ]
  },
  {
   "cell_type": "code",
   "execution_count": null,
   "metadata": {
    "iooxa": {
     "id": {
      "block": "HtaQ8wJ2fhsD8bQ6asec",
      "project": "rzeiFG3sdIcsFLl4Infw",
      "version": 7
     },
     "outputId": {
      "block": "iLJUD1IpdCixWlTnMSdy",
      "project": "rzeiFG3sdIcsFLl4Infw",
      "version": 7
     }
    }
   },
   "outputs": [],
   "source": [
    "INV.run(\n",
    "    maxIter=20, # just to test\n",
    "    lam=10,  # btw 1-100\n",
    "    #verbose=True,\n",
    "    #debug=True,\n",
    "    #startModel=model_true.property_x.ravel('F'),\n",
    "    #isReference=True,\n",
    ")"
   ]
  },
  {
   "cell_type": "markdown",
   "metadata": {},
   "source": [
    "## Plots"
   ]
  },
  {
   "cell_type": "code",
   "execution_count": null,
   "metadata": {
    "iooxa": {
     "id": {
      "block": "HnQHpPqUPy6hzjZiVMQE",
      "project": "rzeiFG3sdIcsFLl4Infw",
      "version": 6
     },
     "outputId": {
      "block": "5zwl94pFeTEEv5X0O0Tg",
      "project": "rzeiFG3sdIcsFLl4Infw",
      "version": 5
     }
    }
   },
   "outputs": [],
   "source": [
    "plot_models(sim, sim.model, model)"
   ]
  },
  {
   "cell_type": "code",
   "execution_count": null,
   "metadata": {
    "iooxa": {
     "id": {
      "block": "LvfXhn7QRkEj7i5gllts",
      "project": "rzeiFG3sdIcsFLl4Infw",
      "version": 6
     },
     "outputId": {
      "block": "S6bzrt7WOqz93fwip1nC",
      "project": "rzeiFG3sdIcsFLl4Infw",
      "version": 6
     }
    }
   },
   "outputs": [],
   "source": [
    "plot_responses(sim)"
   ]
  },
  {
   "cell_type": "code",
   "execution_count": null,
   "metadata": {},
   "outputs": [],
   "source": [
    "emg3d.Report()"
   ]
  }
 ],
 "metadata": {
  "iooxa": {
   "id": {
    "block": "0KPSewj1Zzk61vOcXTtd",
    "project": "rzeiFG3sdIcsFLl4Infw",
    "version": 8
   }
  },
  "kernelspec": {
   "display_name": "pg-emg3d",
   "language": "python",
   "name": "pg-emg3d"
  },
  "language_info": {
   "codemirror_mode": {
    "name": "ipython",
    "version": 3
   },
   "file_extension": ".py",
   "mimetype": "text/x-python",
   "name": "python",
   "nbconvert_exporter": "python",
   "pygments_lexer": "ipython3",
   "version": "3.11.9"
  }
 },
 "nbformat": 4,
 "nbformat_minor": 4
}
