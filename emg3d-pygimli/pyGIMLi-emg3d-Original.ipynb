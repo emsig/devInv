{
 "cells": [
  {
   "cell_type": "markdown",
   "id": "49f2dccb",
   "metadata": {
    "papermill": {
     "duration": 0.004762,
     "end_time": "2024-07-16T07:39:47.685023",
     "exception": false,
     "start_time": "2024-07-16T07:39:47.680261",
     "status": "completed"
    },
    "tags": []
   },
   "source": [
    "# `pyGIMLi(emg3d)`\n",
    "\n",
    "Requires\n",
    "- `simpeg>=1.5.2`\n",
    "- `emg3d@inv-pygimli` (`pip install git+https://github.com/emsig/emg3d@inv-pygimli`\n",
    "\n",
    "Quite simple plus all possible inv-crimes (same mesh, some solver, ...).\n",
    "\n",
    "**Current Limitations**\n",
    "- Only isotropic models supported\n",
    "- Only 'Conductivity' models supported\n",
    "- Without el. perm. and magn. perm."
   ]
  },
  {
   "cell_type": "code",
   "execution_count": null,
   "id": "b9e884b3",
   "metadata": {
    "papermill": {
     "duration": 1.685643,
     "end_time": "2024-07-16T07:39:49.374033",
     "exception": false,
     "start_time": "2024-07-16T07:39:47.688390",
     "status": "completed"
    },
    "tags": []
   },
   "outputs": [],
   "source": [
    "import numpy as np\n",
    "import matplotlib.pyplot as plt\n",
    "from matplotlib.colors import LogNorm\n",
    "\n",
    "import emg3d\n",
    "# import pygimli as pg\n",
    "import emg3d.inversion.pygimli as ipygimli\n",
    "\n",
    "%run ../data/sampledata"
   ]
  },
  {
   "cell_type": "code",
   "execution_count": null,
   "id": "4b8097b8-3778-4008-aa43-e9f84849ec45",
   "metadata": {},
   "outputs": [],
   "source": [
    "%matplotlib widget"
   ]
  },
  {
   "cell_type": "markdown",
   "id": "6bae9abc",
   "metadata": {
    "papermill": {
     "duration": 0.003118,
     "end_time": "2024-07-16T07:39:49.386788",
     "exception": false,
     "start_time": "2024-07-16T07:39:49.383670",
     "status": "completed"
    },
    "tags": []
   },
   "source": [
    "## Load Simulation (incl. Survey, Models, Data)"
   ]
  },
  {
   "cell_type": "code",
   "execution_count": null,
   "id": "3a8fde72",
   "metadata": {
    "papermill": {
     "duration": 0.079149,
     "end_time": "2024-07-16T07:39:49.469021",
     "exception": false,
     "start_time": "2024-07-16T07:39:49.389872",
     "status": "completed"
    },
    "tags": []
   },
   "outputs": [],
   "source": [
    "sim, model = load_data(\"../data/pyGIMLi-Original\")\n",
    "model_init = sim.model.copy()\n",
    "\n",
    "# sim.tol_gradient = 1e-2  # could be reduced further to potentially speed-up more"
   ]
  },
  {
   "cell_type": "markdown",
   "id": "0343ce01-7f78-4cc5-b023-b892887ba916",
   "metadata": {},
   "source": [
    "## Define regions, instantiate Kernel and Inversion"
   ]
  },
  {
   "cell_type": "code",
   "execution_count": null,
   "id": "8ee151b4",
   "metadata": {
    "papermill": {
     "duration": 2.22772,
     "end_time": "2024-07-16T07:39:52.562685",
     "exception": false,
     "start_time": "2024-07-16T07:39:50.334965",
     "status": "completed"
    },
    "tags": []
   },
   "outputs": [],
   "source": [
    "markers = np.zeros(sim.model.shape, dtype=int)\n",
    "markers[:, :, sim.model.grid.cell_centers_z > 0] = 1\n",
    "\n",
    "# Instantiate the emg3d-kernel for pyGIMLi\n",
    "fop = ipygimli.Kernel(simulation=sim, markers=markers, pgthreads=1)\n",
    "\n",
    "# Instantiate the inversion and set some inversion parameters\n",
    "INV = ipygimli.Inversion(fop=fop)\n",
    "INV.inv.setCGLSTolerance(10)  # is _absolute_, not _relative_\n",
    "INV.inv.setMaxCGLSIter(30)\n",
    "\n",
    "# Set the regions.\n",
    "INV.fop.setRegionProperties(0, limits=(0.001, 2), startModel=1)\n",
    "INV.fop.setRegionProperties(1, limits=(3, 4), startModel=3.33)\n",
    "\n",
    "# INV.stopAtChi1 = False"
   ]
  },
  {
   "cell_type": "code",
   "execution_count": null,
   "id": "030d854c",
   "metadata": {
    "papermill": {
     "duration": 120241.970457,
     "end_time": "2024-07-17T17:03:54.537903",
     "exception": false,
     "start_time": "2024-07-16T07:39:52.567446",
     "status": "completed"
    },
    "tags": []
   },
   "outputs": [],
   "source": [
    "# DIFFERENT # fop.obs_resp_errors[fop.obs_resp_errors > 0.5] = 1e8\n",
    "INV.run(\n",
    "    # dataVals=fop.obs_resp_data,  # DIFFERENT # \n",
    "    # relativeError=fop.obs_resp_errors,  # DIFFERENT # \n",
    "    maxIter=20, # just to test\n",
    "    lam=1,\n",
    "    #verbose=True,\n",
    "    #startModel=...,\n",
    "    #isReference=True,\n",
    ")"
   ]
  },
  {
   "cell_type": "markdown",
   "id": "919334b7",
   "metadata": {
    "papermill": {
     "duration": 0.005537,
     "end_time": "2024-07-17T17:03:54.549320",
     "exception": false,
     "start_time": "2024-07-17T17:03:54.543783",
     "status": "completed"
    },
    "tags": []
   },
   "source": [
    "## Plots"
   ]
  },
  {
   "cell_type": "code",
   "execution_count": null,
   "id": "d74ac9e8",
   "metadata": {
    "papermill": {
     "duration": 2.366012,
     "end_time": "2024-07-17T17:03:56.920726",
     "exception": false,
     "start_time": "2024-07-17T17:03:54.554714",
     "status": "completed"
    },
    "tags": []
   },
   "outputs": [],
   "source": [
    "plot_models(sim, sim.model, model, zind=4, vmin=0.3, vmax=100)"
   ]
  },
  {
   "cell_type": "code",
   "execution_count": null,
   "id": "8f7ece70",
   "metadata": {
    "papermill": {
     "duration": 2.970925,
     "end_time": "2024-07-17T17:03:59.898445",
     "exception": false,
     "start_time": "2024-07-17T17:03:56.927520",
     "status": "completed"
    },
    "tags": []
   },
   "outputs": [],
   "source": [
    "plot_responses(sim)"
   ]
  },
  {
   "cell_type": "code",
   "execution_count": null,
   "id": "a070e494",
   "metadata": {
    "papermill": {
     "duration": 0.071009,
     "end_time": "2024-07-17T17:03:59.989013",
     "exception": false,
     "start_time": "2024-07-17T17:03:59.918004",
     "status": "completed"
    },
    "tags": []
   },
   "outputs": [],
   "source": [
    "emg3d.Report()"
   ]
  }
 ],
 "metadata": {
  "hide_input": false,
  "kernelspec": {
   "display_name": "pg-emg3d",
   "language": "python",
   "name": "pg-emg3d"
  },
  "language_info": {
   "codemirror_mode": {
    "name": "ipython",
    "version": 3
   },
   "file_extension": ".py",
   "mimetype": "text/x-python",
   "name": "python",
   "nbconvert_exporter": "python",
   "pygments_lexer": "ipython3",
   "version": "3.11.9"
  },
  "papermill": {
   "default_parameters": {},
   "duration": 120254.346313,
   "end_time": "2024-07-17T17:04:01.029541",
   "environment_variables": {},
   "exception": null,
   "input_path": "DevInv-7x7-reprNew.ipynb",
   "output_path": "out.ipynb",
   "parameters": {},
   "start_time": "2024-07-16T07:39:46.683228",
   "version": "2.6.0"
  },
  "toc": {
   "base_numbering": 1,
   "nav_menu": {},
   "number_sections": false,
   "sideBar": true,
   "skip_h1_title": false,
   "title_cell": "Table of Contents",
   "title_sidebar": "Contents",
   "toc_cell": false,
   "toc_position": {},
   "toc_section_display": true,
   "toc_window_display": false
  },
  "varInspector": {
   "cols": {
    "lenName": 16,
    "lenType": 16,
    "lenVar": 40
   },
   "kernels_config": {
    "python": {
     "delete_cmd_postfix": "",
     "delete_cmd_prefix": "del ",
     "library": "var_list.py",
     "varRefreshCmd": "print(var_dic_list())"
    },
    "r": {
     "delete_cmd_postfix": ") ",
     "delete_cmd_prefix": "rm(",
     "library": "var_list.r",
     "varRefreshCmd": "cat(var_dic_list()) "
    }
   },
   "position": {
    "height": "446.849px",
    "left": "931px",
    "right": "20px",
    "top": "120px",
    "width": "329px"
   },
   "types_to_exclude": [
    "module",
    "function",
    "builtin_function_or_method",
    "instance",
    "_Feature"
   ],
   "window_display": false
  }
 },
 "nbformat": 4,
 "nbformat_minor": 5
}
